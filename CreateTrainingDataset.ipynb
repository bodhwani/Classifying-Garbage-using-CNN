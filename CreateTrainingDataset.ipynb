{
 "cells": [
  {
   "cell_type": "code",
   "execution_count": 10,
   "metadata": {
    "collapsed": true
   },
   "outputs": [],
   "source": [
    "import numpy as np\n",
    "import h5py\n",
    "import os\n",
    "import cv2"
   ]
  },
  {
   "cell_type": "markdown",
   "metadata": {},
   "source": [
    "# Creating training dataset\n",
    "- set_x - 80%\n",
    "- set_y - 20%"
   ]
  },
  {
   "cell_type": "code",
   "execution_count": 11,
   "metadata": {},
   "outputs": [
    {
     "name": "stdout",
     "output_type": "stream",
     "text": [
      "/Users/Vinit/Desktop/CSIhack/dataset/output\n",
      "\n",
      "Complete\n",
      "\n",
      "Complete\n",
      "\n",
      "Complete\n",
      "\n",
      "Complete\n",
      "\n",
      "Complete\n",
      "\n",
      "Complete\n",
      "Successfully Created dataset\n"
     ]
    }
   ],
   "source": [
    "hahah = []\n",
    "trainstoreImage = []\n",
    "teststoreImage = []\n",
    "path = \"/Users/Vinit/Desktop/CSIhack/dataset/output\"\n",
    "# path = \"/Users/Vinit/Desktop/testing/newdata\"\n",
    "print path\n",
    "h2=[]\n",
    "temp = []\n",
    "image = []\n",
    "testimage = []\n",
    "count = 0\n",
    "\n",
    "for i in (os.listdir(path)):\n",
    "    if i != \".DS_Store\" and i != \"ImageTo64x64.ipynb\":\n",
    "        h2.append(i)\n",
    "        sub_path = path+\"/\"+i\n",
    "        if sub_path != \".DS_Store\":\n",
    "            h2.append(os.listdir(sub_path))\n",
    "            temp = (os.listdir(sub_path))\n",
    "            for a in range(0,len(temp)):\n",
    "                if(temp[a]!=\".DS_Store\"):\n",
    "                    imagepath = sub_path + \"/\" + temp[a]\n",
    "                    image = cv2.imread(imagepath)\n",
    "                    #80% of 180 is 144\n",
    "                    if(a>144):\n",
    "                        teststoreImage.append(image)\n",
    "                    else:\n",
    "                        trainstoreImage.append(image)\n",
    "            print(\"\\nComplete\")\n",
    "                    \n",
    "with h5py.File('train_dataset.h5', 'a') as hdf:\n",
    "    hdf.create_dataset('train_set_x', data = trainstoreImage )\n",
    "\n",
    "with h5py.File('test_dataset.h5', 'a') as hdf:\n",
    "    hdf.create_dataset('test_set_x', data = teststoreImage )\n",
    "\n",
    "print \"Successfully Created dataset\"\n"
   ]
  },
  {
   "cell_type": "markdown",
   "metadata": {},
   "source": [
    "# Checking dimensions"
   ]
  },
  {
   "cell_type": "code",
   "execution_count": 9,
   "metadata": {},
   "outputs": [
    {
     "name": "stdout",
     "output_type": "stream",
     "text": [
      "[u'train_set_x']\n",
      "<HDF5 dataset \"train_set_x\": shape (864, 64, 64, 3), type \"|u1\">\n",
      "<HDF5 dataset \"test_set_x\": shape (216, 64, 64, 3), type \"|u1\">\n",
      "ahhaha (864, 64, 64, 3)\n"
     ]
    }
   ],
   "source": [
    "hdf5storeTrain = h5py.File('train_dataset.h5', \"r\")\n",
    "hdf5storeTest = h5py.File('test_dataset.h5', \"r\")\n",
    "\n",
    "print (hdf5storeTrain.keys())\n",
    "n1 = hdf5storeTrain.get('train_set_x')\n",
    "n2 = hdf5storeTest.get('test_set_x')\n",
    "print n1\n",
    "print n2\n",
    "train_dataset = h5py.File('train_dataset.h5', \"r\")\n",
    "train_set_x_orig = np.array(train_dataset[\"train_set_x\"][:])\n",
    "\n",
    "print \"ahhaha\",train_set_x_orig.shape\n",
    "\n"
   ]
  },
  {
   "cell_type": "code",
   "execution_count": null,
   "metadata": {
    "collapsed": true
   },
   "outputs": [],
   "source": []
  }
 ],
 "metadata": {
  "kernelspec": {
   "display_name": "Python 2",
   "language": "python",
   "name": "python2"
  },
  "language_info": {
   "codemirror_mode": {
    "name": "ipython",
    "version": 2
   },
   "file_extension": ".py",
   "mimetype": "text/x-python",
   "name": "python",
   "nbconvert_exporter": "python",
   "pygments_lexer": "ipython2",
   "version": "2.7.13"
  }
 },
 "nbformat": 4,
 "nbformat_minor": 2
}
