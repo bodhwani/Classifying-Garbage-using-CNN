{
 "cells": [
  {
   "cell_type": "code",
   "execution_count": 1,
   "metadata": {},
   "outputs": [
    {
     "name": "stdout",
     "output_type": "stream",
     "text": [
      "Initialised with 810 image(s) found.\n",
      "Output directory set to /Users/Vinit/Desktop/CSIhack/dataset/output."
     ]
    }
   ],
   "source": [
    "import Augmentor\n",
    "# p = Augmentor.Pipeline(\"/Users/Vinit/Desktop/testing/data/betula_alleghaniensis\")\n",
    "# p.rotate(probability=0.7, max_left=5, max_right=5)\n",
    "# p.sample(5)\n",
    "\n",
    "\n",
    "p = Augmentor.Pipeline(\"/Users/Vinit/Desktop/CSIhack/dataset\")\n",
    "# # Point to a directory containing ground truth data.\n",
    "# # Images with the same file names will be added as ground truth data\n",
    "# # and augmented in parallel to the original data.\n",
    "# # Add operations to the pipeline as normal:\n",
    "# p.ground_truth(\"/Users/Vinit/Desktop/testing/data/\")\n"
   ]
  },
  {
   "cell_type": "code",
   "execution_count": 66,
   "metadata": {},
   "outputs": [
    {
     "name": "stderr",
     "output_type": "stream",
     "text": [
      "                                                                                             \r"
     ]
    }
   ],
   "source": [
    "p.rotate(probability=1, max_left_rotation=5, max_right_rotation=5)\n",
    "p.flip_left_right(probability=0.5)\n",
    "p.zoom_random(probability=0.5, percentage_area=0.8)\n",
    "p.flip_top_bottom(probability=0.5)\n",
    "p.resize(probability=1.0, width=64, height=64)\n",
    "\n",
    "p.sample(27000)"
   ]
  },
  {
   "cell_type": "code",
   "execution_count": 68,
   "metadata": {},
   "outputs": [
    {
     "name": "stdout",
     "output_type": "stream",
     "text": [
      "(64, 64, 3)\n"
     ]
    }
   ],
   "source": [
    "import cv2\n",
    "matrix1 = cv2.imread(\"/Users/Vinit/Desktop/LDD/leafsnap-dataset/dataset/images/field/output/acer_saccharinum/acer_saccharinum_original_0a6a975c-5c17-444a-b716-571fe15d552d.jpg\")\n",
    "print matrix1.shape"
   ]
  }
 ],
 "metadata": {
  "kernelspec": {
   "display_name": "Python 2",
   "language": "python",
   "name": "python2"
  },
  "language_info": {
   "codemirror_mode": {
    "name": "ipython",
    "version": 2
   },
   "file_extension": ".py",
   "mimetype": "text/x-python",
   "name": "python",
   "nbconvert_exporter": "python",
   "pygments_lexer": "ipython2",
   "version": "2.7.13"
  }
 },
 "nbformat": 4,
 "nbformat_minor": 2
}
